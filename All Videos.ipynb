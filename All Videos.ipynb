{
 "cells": [
  {
   "cell_type": "markdown",
   "source": [
    "133 - create new app"
   ],
   "metadata": {
    "collapsed": false
   }
  },
  {
   "cell_type": "markdown",
   "source": [
    "134 - render a html file by import Flask from flask\n",
    "      and create @app.route(\"/\")"
   ],
   "metadata": {
    "collapsed": false
   }
  },
  {
   "cell_type": "markdown",
   "source": [
    "135 - we need to make interface of base html to make reuseable code\n",
    "      then extends in other html with change body {% block body%} {% endblock %}"
   ],
   "metadata": {
    "collapsed": false
   }
  },
  {
   "cell_type": "markdown",
   "source": [
    "136 - html in templates - css in static\n",
    "      in this lesson I was added css file\n",
    "\n",
    "      \"<link rel=\"stylesheet\" href=\"{{ url_for('static',filename  = 'css/main.css' ) }}\">\""
   ],
   "metadata": {
    "collapsed": false
   }
  },
  {
   "cell_type": "markdown",
   "source": [
    "137 - in this section I need to generalize css files of pages\n",
    "      I make this by I pass file css name only and concat it with base html to render custom css file\n",
    "      and make sure that found a css in this page\n",
    "      {% if filename_css_from_runner %}\n",
    "      \"<link rel=\"stylesheet\" href=\"{{ url_for('static',filename=\"css/\"+filename_css_from_runner+\".css\") }}\">\"\n",
    "      {% endif %}"
   ],
   "metadata": {
    "collapsed": false
   }
  },
  {
   "cell_type": "markdown",
   "source": [
    "138 - how to print list of data and passing header and description of page\n",
    "        ```HTML\n",
    "        <h1 class=\"page-head\">{{ page_head }}</h1>\n",
    "        <p class=\"page-description\">{{ description }}</p>\n",
    "        {% for member in dataset %}\n",
    "            <div> # Line by Line\n",
    "                {{ \"The name of member : \" }}\n",
    "                {{ member[0] }}\n",
    "                {{ \" is \"+member[1] }}\n",
    "            </div>\n",
    "        {% endfor %}\n",
    "        ```"
   ],
   "metadata": {
    "collapsed": false
   }
  },
  {
   "cell_type": "markdown",
   "source": [],
   "metadata": {
    "collapsed": false
   }
  }
 ],
 "metadata": {
  "kernelspec": {
   "display_name": "Python 3",
   "language": "python",
   "name": "python3"
  },
  "language_info": {
   "codemirror_mode": {
    "name": "ipython",
    "version": 2
   },
   "file_extension": ".py",
   "mimetype": "text/x-python",
   "name": "python",
   "nbconvert_exporter": "python",
   "pygments_lexer": "ipython2",
   "version": "2.7.6"
  }
 },
 "nbformat": 4,
 "nbformat_minor": 0
}
